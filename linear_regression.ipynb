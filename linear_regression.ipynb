{
  "nbformat": 4,
  "nbformat_minor": 0,
  "metadata": {
    "colab": {
      "provenance": [],
      "authorship_tag": "ABX9TyNC059EMnQhhmonoLwmNOnA",
      "include_colab_link": true
    },
    "kernelspec": {
      "name": "python3",
      "display_name": "Python 3"
    },
    "language_info": {
      "name": "python"
    }
  },
  "cells": [
    {
      "cell_type": "markdown",
      "metadata": {
        "id": "view-in-github",
        "colab_type": "text"
      },
      "source": [
        "<a href=\"https://colab.research.google.com/github/navadeep102/house_prices.py/blob/main/linear_regression.ipynb\" target=\"_parent\"><img src=\"https://colab.research.google.com/assets/colab-badge.svg\" alt=\"Open In Colab\"/></a>"
      ]
    },
    {
      "cell_type": "code",
      "execution_count": 1,
      "metadata": {
        "colab": {
          "base_uri": "https://localhost:8080/"
        },
        "id": "qpy-Q5mB3ZUR",
        "outputId": "703b31ad-8760-42e1-ed48-e69b7ff98f4f"
      },
      "outputs": [
        {
          "output_type": "stream",
          "name": "stdout",
          "text": [
            "   area  bedrooms  bathrooms   price\n",
            "0  1000         2          1  200000\n",
            "1  1500         3          2  300000\n",
            "2  1800         3          2  350000\n",
            "3  2400         4          3  450000\n",
            "4  3000         4          3  500000\n",
            "14000.000000000116\n"
          ]
        }
      ],
      "source": [
        "import numpy as np\n",
        "import pandas as pd\n",
        "from sklearn.model_selection import train_test_split\n",
        "from sklearn.linear_model import LinearRegression\n",
        "from sklearn.metrics import mean_squared_error #metrics used to how well ml algorithm is performing\n",
        "data=pd.read_csv(\"house_prices.csv\") #replaces with default csv file\n",
        "print(data)\n",
        "x=data[['area','bedrooms','bathrooms']]\n",
        "y=data['price']\n",
        "x_train,x_test,y_train,y_test = train_test_split(x,y,test_size=0.2,random_state=42) #test_size---->how much data to be test in the machine from the whole data\n",
        "                                                                                  #random_state--->if this is used we will gwt the sam output every time\n",
        "model=LinearRegression()\n",
        "model.fit(x_train,y_train) #.fit() is used to train the linearregression model\n",
        "y_predict=model.predict(x_test)\n",
        "mse=mean_squared_error(y_test,y_predict)\n",
        "rmse=np.sqrt(mse)\n",
        "print(rmse)"
      ]
    }
  ]
}